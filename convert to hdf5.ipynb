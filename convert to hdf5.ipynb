{
 "cells": [
  {
   "cell_type": "code",
   "execution_count": 1,
   "metadata": {
    "collapsed": false
   },
   "outputs": [],
   "source": [
    "import numpy as np\n",
    "import pandas as pd\n",
    "import glob, os, sys\n",
    "\n",
    "import matplotlib.pyplot as plt\n",
    "%matplotlib inline\n",
    "\n",
    "import h5py\n",
    "\n",
    "from param import *"
   ]
  },
  {
   "cell_type": "code",
   "execution_count": 4,
   "metadata": {
    "collapsed": false,
    "scrolled": true
   },
   "outputs": [
    {
     "name": "stdout",
     "output_type": "stream",
     "text": [
      "/mnt/recordings/Collabolation/Takanari/2018-09-03/csv/Datasheet.csv\n",
      "/mnt/recordings/Collabolation/Takanari/2018-09-03/csv/No.00.csv\n",
      "/mnt/recordings/Collabolation/Takanari/2018-09-03/csv/No.01.csv\n",
      "/mnt/recordings/Collabolation/Takanari/2018-09-03/csv/No.02.csv\n",
      "/mnt/recordings/Collabolation/Takanari/2018-09-03/csv/No.03.csv\n",
      "/mnt/recordings/Collabolation/Takanari/2018-09-03/csv/No.04.csv\n",
      "/mnt/recordings/Collabolation/Takanari/2018-09-03/csv/No.05.csv\n",
      "/mnt/recordings/Collabolation/Takanari/2018-09-03/csv/No.06.csv\n",
      "/mnt/recordings/Collabolation/Takanari/2018-09-03/csv/No.07.csv\n",
      "/mnt/recordings/Collabolation/Takanari/2018-09-03/csv/No.08.csv\n",
      "/mnt/recordings/Collabolation/Takanari/2018-09-03/csv/No.09.csv\n",
      "/mnt/recordings/Collabolation/Takanari/2018-09-03/csv/No.10.csv\n",
      "/mnt/recordings/Collabolation/Takanari/2018-09-03/csv/No.11.csv\n",
      "/mnt/recordings/Collabolation/Takanari/2018-09-03/csv/No.12.csv\n",
      "/mnt/recordings/Collabolation/Takanari/2018-09-03/csv/No.13.csv\n",
      "/mnt/recordings/Collabolation/Takanari/2018-09-03/csv/No.14.csv\n",
      "/mnt/recordings/Collabolation/Takanari/2018-09-03/csv/No.15.csv\n",
      "/mnt/recordings/Collabolation/Takanari/2018-09-03/csv/No.16.csv\n",
      "/mnt/recordings/Collabolation/Takanari/2018-09-03/csv/No.17.csv\n",
      "/mnt/recordings/Collabolation/Takanari/2018-09-03/csv/No.18.csv\n",
      "/mnt/recordings/Collabolation/Takanari/2018-09-03/csv/No.19.csv\n",
      "/mnt/recordings/Collabolation/Takanari/2018-09-03/csv/No.20.csv\n",
      "/mnt/recordings/Collabolation/Takanari/2018-09-03/csv/No.21.csv\n",
      "/mnt/recordings/Collabolation/Takanari/2018-09-03/csv/No.22.csv\n",
      "/mnt/recordings/Collabolation/Takanari/2018-09-03/csv/No.23.csv\n",
      "/mnt/recordings/Collabolation/Takanari/2018-09-03/csv/No.24.csv\n",
      "/mnt/recordings/Collabolation/Takanari/2018-09-03/csv/No.25.csv\n",
      "/mnt/recordings/Collabolation/Takanari/2018-09-03/csv/No.26.csv\n",
      "/mnt/recordings/Collabolation/Takanari/2018-09-03/csv/No.27.csv\n",
      "/mnt/recordings/Collabolation/Takanari/2018-09-03/csv/No.28.csv\n",
      "/mnt/recordings/Collabolation/Takanari/2018-09-03/csv/No.29.csv\n",
      "/mnt/recordings/Collabolation/Takanari/2018-09-03/csv/No.30.csv\n",
      "/mnt/recordings/Collabolation/Takanari/2018-09-03/csv/No.31.csv\n",
      "/mnt/recordings/Collabolation/Takanari/2018-09-03/csv/No.32.csv\n",
      "/mnt/recordings/Collabolation/Takanari/2018-09-03/csv/No.33.csv\n",
      "/mnt/recordings/Collabolation/Takanari/2018-09-03/csv/No.34.csv\n",
      "/mnt/recordings/Collabolation/Takanari/2018-09-03/csv/No.35.csv\n",
      "/mnt/recordings/Collabolation/Takanari/2018-09-03/csv/No.36.csv\n",
      "/mnt/recordings/Collabolation/Takanari/2018-09-03/csv/No.37.csv\n",
      "/mnt/recordings/Collabolation/Takanari/2018-09-03/csv/No.38.csv\n",
      "/mnt/recordings/Collabolation/Takanari/2018-09-03/csv/No.39.csv\n",
      "/mnt/recordings/Collabolation/Takanari/2018-09-03/csv/No.40.csv\n"
     ]
    }
   ],
   "source": [
    "files = sorted(glob.glob(src_dir+\"/*.csv\"))\n",
    "for f in files : print(f)"
   ]
  },
  {
   "cell_type": "code",
   "execution_count": 5,
   "metadata": {
    "collapsed": false,
    "scrolled": false
   },
   "outputs": [
    {
     "data": {
      "text/html": [
       "<div>\n",
       "<table border=\"1\" class=\"dataframe\">\n",
       "  <thead>\n",
       "    <tr style=\"text-align: right;\">\n",
       "      <th></th>\n",
       "      <th>PMA塗布からの経過日数</th>\n",
       "      <th>積算回数</th>\n",
       "      <th>備考</th>\n",
       "    </tr>\n",
       "  </thead>\n",
       "  <tbody>\n",
       "    <tr>\n",
       "      <th>0</th>\n",
       "      <td>0</td>\n",
       "      <td>1</td>\n",
       "      <td>不完全（apicalのみ、basalは計測していない）</td>\n",
       "    </tr>\n",
       "    <tr>\n",
       "      <th>1</th>\n",
       "      <td>1</td>\n",
       "      <td>1</td>\n",
       "      <td>NaN</td>\n",
       "    </tr>\n",
       "    <tr>\n",
       "      <th>2</th>\n",
       "      <td>1</td>\n",
       "      <td>1</td>\n",
       "      <td>NaN</td>\n",
       "    </tr>\n",
       "    <tr>\n",
       "      <th>3</th>\n",
       "      <td>1</td>\n",
       "      <td>1</td>\n",
       "      <td>NaN</td>\n",
       "    </tr>\n",
       "    <tr>\n",
       "      <th>4</th>\n",
       "      <td>2</td>\n",
       "      <td>1</td>\n",
       "      <td>NaN</td>\n",
       "    </tr>\n",
       "    <tr>\n",
       "      <th>5</th>\n",
       "      <td>2</td>\n",
       "      <td>1</td>\n",
       "      <td>NaN</td>\n",
       "    </tr>\n",
       "    <tr>\n",
       "      <th>6</th>\n",
       "      <td>2</td>\n",
       "      <td>1</td>\n",
       "      <td>NaN</td>\n",
       "    </tr>\n",
       "    <tr>\n",
       "      <th>7</th>\n",
       "      <td>4</td>\n",
       "      <td>1</td>\n",
       "      <td>NaN</td>\n",
       "    </tr>\n",
       "    <tr>\n",
       "      <th>8</th>\n",
       "      <td>4</td>\n",
       "      <td>1</td>\n",
       "      <td>NaN</td>\n",
       "    </tr>\n",
       "    <tr>\n",
       "      <th>9</th>\n",
       "      <td>4</td>\n",
       "      <td>1</td>\n",
       "      <td>不完全（apicalのみ、basalは計測していない）</td>\n",
       "    </tr>\n",
       "    <tr>\n",
       "      <th>10</th>\n",
       "      <td>7</td>\n",
       "      <td>1</td>\n",
       "      <td>NaN</td>\n",
       "    </tr>\n",
       "    <tr>\n",
       "      <th>11</th>\n",
       "      <td>7</td>\n",
       "      <td>1</td>\n",
       "      <td>NaN</td>\n",
       "    </tr>\n",
       "    <tr>\n",
       "      <th>12</th>\n",
       "      <td>7</td>\n",
       "      <td>1</td>\n",
       "      <td>NaN</td>\n",
       "    </tr>\n",
       "    <tr>\n",
       "      <th>13</th>\n",
       "      <td>10</td>\n",
       "      <td>1</td>\n",
       "      <td>NaN</td>\n",
       "    </tr>\n",
       "    <tr>\n",
       "      <th>14</th>\n",
       "      <td>10</td>\n",
       "      <td>1</td>\n",
       "      <td>NaN</td>\n",
       "    </tr>\n",
       "    <tr>\n",
       "      <th>15</th>\n",
       "      <td>10</td>\n",
       "      <td>1</td>\n",
       "      <td>NaN</td>\n",
       "    </tr>\n",
       "    <tr>\n",
       "      <th>16</th>\n",
       "      <td>10</td>\n",
       "      <td>20</td>\n",
       "      <td>不完全（10, 250 umは計測していない）</td>\n",
       "    </tr>\n",
       "    <tr>\n",
       "      <th>17</th>\n",
       "      <td>14</td>\n",
       "      <td>1</td>\n",
       "      <td>NaN</td>\n",
       "    </tr>\n",
       "    <tr>\n",
       "      <th>18</th>\n",
       "      <td>14</td>\n",
       "      <td>1</td>\n",
       "      <td>NaN</td>\n",
       "    </tr>\n",
       "    <tr>\n",
       "      <th>19</th>\n",
       "      <td>14</td>\n",
       "      <td>1</td>\n",
       "      <td>NaN</td>\n",
       "    </tr>\n",
       "    <tr>\n",
       "      <th>20</th>\n",
       "      <td>14</td>\n",
       "      <td>20</td>\n",
       "      <td>不完全（10, 250 umは計測していない）</td>\n",
       "    </tr>\n",
       "    <tr>\n",
       "      <th>21</th>\n",
       "      <td>1</td>\n",
       "      <td>20</td>\n",
       "      <td>NaN</td>\n",
       "    </tr>\n",
       "    <tr>\n",
       "      <th>22</th>\n",
       "      <td>1</td>\n",
       "      <td>20</td>\n",
       "      <td>NaN</td>\n",
       "    </tr>\n",
       "    <tr>\n",
       "      <th>23</th>\n",
       "      <td>1</td>\n",
       "      <td>20</td>\n",
       "      <td>NaN</td>\n",
       "    </tr>\n",
       "    <tr>\n",
       "      <th>24</th>\n",
       "      <td>2</td>\n",
       "      <td>20</td>\n",
       "      <td>NaN</td>\n",
       "    </tr>\n",
       "    <tr>\n",
       "      <th>25</th>\n",
       "      <td>2</td>\n",
       "      <td>20</td>\n",
       "      <td>NaN</td>\n",
       "    </tr>\n",
       "    <tr>\n",
       "      <th>26</th>\n",
       "      <td>2</td>\n",
       "      <td>20</td>\n",
       "      <td>NaN</td>\n",
       "    </tr>\n",
       "    <tr>\n",
       "      <th>27</th>\n",
       "      <td>2</td>\n",
       "      <td>20</td>\n",
       "      <td>NaN</td>\n",
       "    </tr>\n",
       "    <tr>\n",
       "      <th>28</th>\n",
       "      <td>4</td>\n",
       "      <td>20</td>\n",
       "      <td>NaN</td>\n",
       "    </tr>\n",
       "    <tr>\n",
       "      <th>29</th>\n",
       "      <td>4</td>\n",
       "      <td>20</td>\n",
       "      <td>NaN</td>\n",
       "    </tr>\n",
       "    <tr>\n",
       "      <th>30</th>\n",
       "      <td>4</td>\n",
       "      <td>20</td>\n",
       "      <td>NaN</td>\n",
       "    </tr>\n",
       "    <tr>\n",
       "      <th>31</th>\n",
       "      <td>4</td>\n",
       "      <td>20</td>\n",
       "      <td>NaN</td>\n",
       "    </tr>\n",
       "    <tr>\n",
       "      <th>32</th>\n",
       "      <td>7</td>\n",
       "      <td>20</td>\n",
       "      <td>NaN</td>\n",
       "    </tr>\n",
       "    <tr>\n",
       "      <th>33</th>\n",
       "      <td>7</td>\n",
       "      <td>20</td>\n",
       "      <td>NaN</td>\n",
       "    </tr>\n",
       "    <tr>\n",
       "      <th>34</th>\n",
       "      <td>7</td>\n",
       "      <td>20</td>\n",
       "      <td>NaN</td>\n",
       "    </tr>\n",
       "    <tr>\n",
       "      <th>35</th>\n",
       "      <td>7</td>\n",
       "      <td>20</td>\n",
       "      <td>NaN</td>\n",
       "    </tr>\n",
       "    <tr>\n",
       "      <th>36</th>\n",
       "      <td>10</td>\n",
       "      <td>20</td>\n",
       "      <td>NaN</td>\n",
       "    </tr>\n",
       "    <tr>\n",
       "      <th>37</th>\n",
       "      <td>10</td>\n",
       "      <td>20</td>\n",
       "      <td>NaN</td>\n",
       "    </tr>\n",
       "    <tr>\n",
       "      <th>38</th>\n",
       "      <td>10</td>\n",
       "      <td>20</td>\n",
       "      <td>NaN</td>\n",
       "    </tr>\n",
       "    <tr>\n",
       "      <th>39</th>\n",
       "      <td>14</td>\n",
       "      <td>20</td>\n",
       "      <td>NaN</td>\n",
       "    </tr>\n",
       "    <tr>\n",
       "      <th>40</th>\n",
       "      <td>14</td>\n",
       "      <td>20</td>\n",
       "      <td>NaN</td>\n",
       "    </tr>\n",
       "  </tbody>\n",
       "</table>\n",
       "</div>"
      ],
      "text/plain": [
       "    PMA塗布からの経過日数  積算回数                           備考\n",
       "0              0     1  不完全（apicalのみ、basalは計測していない）\n",
       "1              1     1                          NaN\n",
       "2              1     1                          NaN\n",
       "3              1     1                          NaN\n",
       "4              2     1                          NaN\n",
       "5              2     1                          NaN\n",
       "6              2     1                          NaN\n",
       "7              4     1                          NaN\n",
       "8              4     1                          NaN\n",
       "9              4     1  不完全（apicalのみ、basalは計測していない）\n",
       "10             7     1                          NaN\n",
       "11             7     1                          NaN\n",
       "12             7     1                          NaN\n",
       "13            10     1                          NaN\n",
       "14            10     1                          NaN\n",
       "15            10     1                          NaN\n",
       "16            10    20      不完全（10, 250 umは計測していない）\n",
       "17            14     1                          NaN\n",
       "18            14     1                          NaN\n",
       "19            14     1                          NaN\n",
       "20            14    20      不完全（10, 250 umは計測していない）\n",
       "21             1    20                          NaN\n",
       "22             1    20                          NaN\n",
       "23             1    20                          NaN\n",
       "24             2    20                          NaN\n",
       "25             2    20                          NaN\n",
       "26             2    20                          NaN\n",
       "27             2    20                          NaN\n",
       "28             4    20                          NaN\n",
       "29             4    20                          NaN\n",
       "30             4    20                          NaN\n",
       "31             4    20                          NaN\n",
       "32             7    20                          NaN\n",
       "33             7    20                          NaN\n",
       "34             7    20                          NaN\n",
       "35             7    20                          NaN\n",
       "36            10    20                          NaN\n",
       "37            10    20                          NaN\n",
       "38            10    20                          NaN\n",
       "39            14    20                          NaN\n",
       "40            14    20                          NaN"
      ]
     },
     "execution_count": 5,
     "metadata": {},
     "output_type": "execute_result"
    }
   ],
   "source": [
    "df_mice = pd.read_csv(os.path.join(src_dir, \"Datasheet.csv\"))\n",
    "df_mice"
   ]
  },
  {
   "cell_type": "code",
   "execution_count": 6,
   "metadata": {
    "collapsed": false,
    "scrolled": true
   },
   "outputs": [],
   "source": [
    "switch = {\n",
    "    \"show_column\" : False,\n",
    "    \"plot_all\" : False,\n",
    "}\n",
    "\n",
    "\n",
    "for i, row in df_mice.iterrows():\n",
    "    df = pd.read_csv(os.path.join(src_dir, \"No.{0:0>2}.csv\".format(i)))\n",
    "    \n",
    "    if switch[\"show_column\"]:\n",
    "        print(i, df.columns)\n",
    "    \n",
    "    if switch[\"plot_all\"]:\n",
    "        dat = df.values\n",
    "        plt.clf()\n",
    "        for s in dat.T:\n",
    "            plt.plot(s)\n",
    "        plt.show()"
   ]
  },
  {
   "cell_type": "markdown",
   "metadata": {},
   "source": [
    "## save as HDF5 format"
   ]
  },
  {
   "cell_type": "code",
   "execution_count": 7,
   "metadata": {
    "collapsed": false
   },
   "outputs": [],
   "source": [
    "outf = src_dir.replace(\"csv\", \"all.h5\")\n",
    "h5file = h5py.File(outf, \"w\")\n",
    "\n",
    "\n",
    "for n_mice in range(len(df_mice)):\n",
    "    d = 'mice{0:0>2}'.format(n_mice)\n",
    "    h5file.create_group(d)\n",
    "    \n",
    "    for str_pos in [\"La\", \"Lb\", \"Ra\", \"Rb\"]:\n",
    "        d = 'mice{0:0>2}/{1}'.format(n_mice, str_pos)\n",
    "        h5file.create_group(d)\n",
    "\n",
    "for i, row in df_mice.iterrows():\n",
    "    df = pd.read_csv(os.path.join(src_dir, \"No.{0:0>2}.csv\".format(i)))\n",
    "    for n, col in enumerate(df.columns):\n",
    "        str_mice, str_pos, str_depth = col.split('_')\n",
    "        #print( str_mice, str_pos, str_depth)\n",
    "        assert int(str_mice) == i\n",
    "        h5file.create_dataset('mice{0}/{1}/{2:0>3}'.format(str_mice, str_pos, int(str_depth)), data=df.values.T[n])\n",
    "        h5file.flush()"
   ]
  },
  {
   "cell_type": "code",
   "execution_count": 8,
   "metadata": {
    "collapsed": false
   },
   "outputs": [],
   "source": [
    "h5file.flush()\n",
    "h5file.close()"
   ]
  },
  {
   "cell_type": "markdown",
   "metadata": {},
   "source": [
    "## check"
   ]
  },
  {
   "cell_type": "code",
   "execution_count": 9,
   "metadata": {
    "collapsed": false
   },
   "outputs": [
    {
     "name": "stdout",
     "output_type": "stream",
     "text": [
      "['mice00', 'mice01', 'mice02', 'mice03', 'mice04', 'mice05', 'mice06', 'mice07', 'mice08', 'mice09', 'mice10', 'mice11', 'mice12', 'mice13', 'mice14', 'mice15', 'mice16', 'mice17', 'mice18', 'mice19', 'mice20', 'mice21', 'mice22', 'mice23', 'mice24', 'mice25', 'mice26', 'mice27', 'mice28', 'mice29', 'mice30', 'mice31', 'mice32', 'mice33', 'mice34', 'mice35', 'mice36', 'mice37', 'mice38', 'mice39', 'mice40']\n"
     ]
    }
   ],
   "source": [
    "hf = h5py.File(outf,'r')\n",
    "dataset_names = list(hf.keys())\n",
    "print(dataset_names)"
   ]
  },
  {
   "cell_type": "code",
   "execution_count": 10,
   "metadata": {
    "collapsed": false
   },
   "outputs": [
    {
     "data": {
      "text/plain": [
       "['La', 'Lb', 'Ra', 'Rb']"
      ]
     },
     "execution_count": 10,
     "metadata": {},
     "output_type": "execute_result"
    }
   ],
   "source": [
    "list(hf['mice00'].keys())"
   ]
  },
  {
   "cell_type": "code",
   "execution_count": 11,
   "metadata": {
    "collapsed": false
   },
   "outputs": [
    {
     "data": {
      "text/plain": [
       "['000', '010', '050', '100', '150', '200', '250']"
      ]
     },
     "execution_count": 11,
     "metadata": {},
     "output_type": "execute_result"
    }
   ],
   "source": [
    "list(hf['mice00']['La'].keys())"
   ]
  },
  {
   "cell_type": "code",
   "execution_count": 12,
   "metadata": {
    "collapsed": false
   },
   "outputs": [
    {
     "data": {
      "text/plain": [
       "[<matplotlib.lines.Line2D at 0x7f6edcf41320>]"
      ]
     },
     "execution_count": 12,
     "metadata": {},
     "output_type": "execute_result"
    },
    {
     "data": {
      "image/png": "[encoded data removed]",
      "text/plain": [
       "<matplotlib.figure.Figure at 0x7f6edcf41c50>"
      ]
     },
     "metadata": {},
     "output_type": "display_data"
    }
   ],
   "source": [
    "spectle = np.array(hf['mice00']['La']['000'])\n",
    "plt.plot(spectle)"
   ]
  },
  {
   "cell_type": "code",
   "execution_count": 13,
   "metadata": {
    "collapsed": true
   },
   "outputs": [],
   "source": [
    "hf.close()"
   ]
  },
  {
   "cell_type": "markdown",
   "metadata": {},
   "source": [
    "## reference\n",
    "\n",
    "\n",
    "HDF5 : http://villageofsound.hatenadiary.jp/entry/2014/11/03/234813"
   ]
  }
 ],
 "metadata": {
  "kernelspec": {
   "display_name": "Python [Root]",
   "language": "python",
   "name": "Python [Root]"
  },
  "language_info": {
   "codemirror_mode": {
    "name": "ipython",
    "version": 3
   },
   "file_extension": ".py",
   "mimetype": "text/x-python",
   "name": "python",
   "nbconvert_exporter": "python",
   "pygments_lexer": "ipython3",
   "version": "3.5.2"
  }
 },
 "nbformat": 4,
 "nbformat_minor": 0
}
